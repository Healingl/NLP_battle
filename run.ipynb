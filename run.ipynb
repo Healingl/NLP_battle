{
 "cells": [
  {
   "cell_type": "code",
   "execution_count": 4,
   "metadata": {
    "collapsed": true
   },
   "outputs": [],
   "source": [
    "import h5py\n",
    "import numpy as np\n",
    "import keras\n",
    "import TextCNN\n",
    "import TextCNN1\n",
    "import TextCNNK2\n",
    "import TextRNN\n",
    "import TextRNN_LSTM\n",
    "import TextRCNN\n",
    "import pandas as pd\n",
    "\n",
    "np.random.seed(0)\n",
    "content_matrix=pd.read_csv('data/word2vec/content_matrix.csv',header=None)\n",
    "title_matrix=pd.read_csv('data/word2vec/title_matrix.csv',header=None)\n",
    "train_data=h5py.File('data/train/train_data.h5','r')\n",
    "train_title = train_data['train_title'].value\n",
    "train_content = train_data['train_content'].value\n",
    "train_label=train_data['train_label'].value\n",
    "\n",
    "# split_index=np.arange(train_label.shape[0])\n",
    "# np.random.shuffle(split_index)\n",
    "# train_index=split_index[0:int(len(split_index)*0.8)]\n",
    "# eval_index=split_index[int(len(split_index)*0.8):]\n",
    "\n",
    "# X_eval_title=train_title[eval_index,:]\n",
    "# X_eval_content=train_content[eval_index,:]\n",
    "# y_eval=train_label[eval_index]\n",
    "# X_train_title=train_title[train_index,:]\n",
    "# X_train_content=train_content[train_index,:]\n",
    "# y_train=train_label[train_index]\n",
    "# train_data.close()\n",
    "# NLP_model=TextCNN.TextCNN(title_matrix=title_matrix,content_matrix=content_matrix)\n",
    "# NLP_model.model.fit([X_train_title,X_train_content], y_train, batch_size=256, epochs=30, validation_data=([X_eval_title,X_eval_content],y_eval),\n",
    "#                     callbacks=[keras.callbacks.EarlyStopping(monitor='val_acc', patience=3, verbose=1, mode='auto'),\n",
    "#                     keras.callbacks.ModelCheckpoint('model_weights/NLP_model_CNN256.h5', monitor='val_acc', verbose=0, save_best_only=True,\n",
    "#                                                     save_weights_only=False, mode='auto', period=1)])\n",
    "\n",
    "#CNN 18epoches 0.84716\n",
    "#RNN+GRU 8epoches 0.87725\n",
    "#RNN+LSTM 12epoches 0.84475\n",
    "#CNN512+RNN 0.89383\n",
    "#CNN256+RNN 0.89118\n",
    "#RCNN 21epoches\n",
    "\n",
    "#Bbang\n",
    "#RCNN+RNN+CNN256 0.87036"
   ]
  },
  {
   "cell_type": "code",
   "execution_count": 5,
   "metadata": {},
   "outputs": [
    {
     "name": "stdout",
     "output_type": "stream",
     "text": [
      "400000/400000 [==============================] - 1321s 3ms/step\n",
      "400000/400000 [==============================] - 1119s 3ms/step\n",
      "400000/400000 [==============================] - 306s 764us/step\n",
      "400000/400000 [==============================] - 1963s 5ms/step\n"
     ]
    }
   ],
   "source": [
    "test_data=h5py.File('data/eval/eval_data.h5','r')\n",
    "test_title = test_data['eval_title'].value\n",
    "test_content = test_data['eval_content'].value\n",
    "test_id=test_data['eval_id'].value\n",
    "test_id=np.array(list(map(lambda x:str(x,encoding = \"utf-8\"),test_id)))\n",
    "\n",
    "NLP_model=TextRCNN.TextRCNN(title_matrix=title_matrix,content_matrix=content_matrix)\n",
    "NLP_model.model.load_weights('model_weights/NLP_model_RCNN.h5')\n",
    "preds1=NLP_model.model.predict([test_title,test_content],batch_size=256,verbose=1)\n",
    "result=pd.DataFrame([test_id,preds1],index=['id','pred'])\n",
    "result=result.transpose()\n",
    "result.to_csv('model_results/RCNN_prob.csv',index=False,header=False)\n",
    "\n",
    "NLP_model=TextCNNK2.TextCNNK2(title_matrix=title_matrix,content_matrix=content_matrix)\n",
    "NLP_model.model.load_weights('model_weights/NLP_model_CNNK2.h5')\n",
    "preds2=NLP_model.model.predict([test_title,test_content],batch_size=256,verbose=1)\n",
    "result=pd.DataFrame([test_id,preds2],index=['id','pred'])\n",
    "result=result.transpose()\n",
    "result.to_csv('model_results/CNNK2_prob.csv',index=False,header=False)\n",
    "\n",
    "NLP_model=TextCNN1.TextCNN1(title_matrix=title_matrix,content_matrix=content_matrix)\n",
    "NLP_model.model.load_weights('model_weights/NLP_model_CNN512.h5')\n",
    "preds3=NLP_model.model.predict([test_title,test_content],batch_size=256,verbose=1)\n",
    "result=pd.DataFrame([test_id,preds3],index=['id','pred'])\n",
    "result=result.transpose()\n",
    "result.to_csv('model_results/CNN512_prob.csv',index=False,header=False)\n",
    "\n",
    "NLP_model=TextRNN.TextRNN(title_matrix=title_matrix,content_matrix=content_matrix)\n",
    "NLP_model.model.load_weights('model_weights/NLP_model_RNN.h5')\n",
    "preds4=NLP_model.model.predict([test_title,test_content],batch_size=256,verbose=1)\n",
    "result=pd.DataFrame([test_id,preds4],index=['id','pred'])\n",
    "result=result.transpose()\n",
    "result.to_csv('model_results/RNN_prob.csv',index=False,header=False)\n",
    "preds=(preds1+preds2+preds3+preds4)/4\n",
    "\n",
    "result=pd.DataFrame([test_id,preds],index=['id','pred'])\n",
    "result=result.transpose()\n",
    "result.loc[:,'result']='NEGATIVE'\n",
    "result.loc[(result['pred']>=0.5),'result']='POSITIVE'\n",
    "result.drop('pred',axis=1,inplace=True)\n",
    "result.to_csv('result.csv',index=False,header=False)"
   ]
  },
  {
   "cell_type": "code",
   "execution_count": 4,
   "metadata": {
    "collapsed": true
   },
   "outputs": [],
   "source": [
    "#多模型直接融合\n",
    "import pandas as pd\n",
    "import numpy as np\n",
    "result_RCNN=pd.read_csv('model_results/RCNN_prob.csv',header=None)\n",
    "result_CNNK2=pd.read_csv('model_results/CNNK2_prob.csv',header=None)\n",
    "result_CNN512=pd.read_csv('model_results/CNN512_prob.csv',header=None)\n",
    "result_RNN=pd.read_csv('model_results/RNN_prob.csv',header=None)"
   ]
  },
  {
   "cell_type": "code",
   "execution_count": 5,
   "metadata": {},
   "outputs": [
    {
     "data": {
      "text/html": [
       "<div>\n",
       "<style>\n",
       "    .dataframe thead tr:only-child th {\n",
       "        text-align: right;\n",
       "    }\n",
       "\n",
       "    .dataframe thead th {\n",
       "        text-align: left;\n",
       "    }\n",
       "\n",
       "    .dataframe tbody tr th {\n",
       "        vertical-align: top;\n",
       "    }\n",
       "</style>\n",
       "<table border=\"1\" class=\"dataframe\">\n",
       "  <thead>\n",
       "    <tr style=\"text-align: right;\">\n",
       "      <th></th>\n",
       "      <th>0</th>\n",
       "      <th>1</th>\n",
       "    </tr>\n",
       "  </thead>\n",
       "  <tbody>\n",
       "    <tr>\n",
       "      <th>0</th>\n",
       "      <td>d64d0c87e3c51019b922df146f8b7eab</td>\n",
       "      <td>[ 0.0053655]</td>\n",
       "    </tr>\n",
       "    <tr>\n",
       "      <th>1</th>\n",
       "      <td>8f435a5f65eb0a44523d39b656cfc265</td>\n",
       "      <td>[ 0.99967933]</td>\n",
       "    </tr>\n",
       "    <tr>\n",
       "      <th>2</th>\n",
       "      <td>af6b2aac5d7dbd9a868bc70d7b5159e2</td>\n",
       "      <td>[ 0.01040022]</td>\n",
       "    </tr>\n",
       "    <tr>\n",
       "      <th>3</th>\n",
       "      <td>18dc0d60fe1f0fbdee72b4c66a00b43e</td>\n",
       "      <td>[ 0.9985252]</td>\n",
       "    </tr>\n",
       "    <tr>\n",
       "      <th>4</th>\n",
       "      <td>a69e7fd24cd23da638f95ca5713dceb2</td>\n",
       "      <td>[ 0.99975568]</td>\n",
       "    </tr>\n",
       "  </tbody>\n",
       "</table>\n",
       "</div>"
      ],
      "text/plain": [
       "                                  0              1\n",
       "0  d64d0c87e3c51019b922df146f8b7eab   [ 0.0053655]\n",
       "1  8f435a5f65eb0a44523d39b656cfc265  [ 0.99967933]\n",
       "2  af6b2aac5d7dbd9a868bc70d7b5159e2  [ 0.01040022]\n",
       "3  18dc0d60fe1f0fbdee72b4c66a00b43e   [ 0.9985252]\n",
       "4  a69e7fd24cd23da638f95ca5713dceb2  [ 0.99975568]"
      ]
     },
     "execution_count": 5,
     "metadata": {},
     "output_type": "execute_result"
    }
   ],
   "source": [
    "result_RNN.head()"
   ]
  },
  {
   "cell_type": "code",
   "execution_count": 6,
   "metadata": {},
   "outputs": [
    {
     "data": {
      "text/html": [
       "<div>\n",
       "<style>\n",
       "    .dataframe thead tr:only-child th {\n",
       "        text-align: right;\n",
       "    }\n",
       "\n",
       "    .dataframe thead th {\n",
       "        text-align: left;\n",
       "    }\n",
       "\n",
       "    .dataframe tbody tr th {\n",
       "        vertical-align: top;\n",
       "    }\n",
       "</style>\n",
       "<table border=\"1\" class=\"dataframe\">\n",
       "  <thead>\n",
       "    <tr style=\"text-align: right;\">\n",
       "      <th></th>\n",
       "      <th>0</th>\n",
       "      <th>1</th>\n",
       "    </tr>\n",
       "  </thead>\n",
       "  <tbody>\n",
       "    <tr>\n",
       "      <th>0</th>\n",
       "      <td>d64d0c87e3c51019b922df146f8b7eab</td>\n",
       "      <td>[  1.13385486e-05]</td>\n",
       "    </tr>\n",
       "    <tr>\n",
       "      <th>1</th>\n",
       "      <td>8f435a5f65eb0a44523d39b656cfc265</td>\n",
       "      <td>[ 0.94399279]</td>\n",
       "    </tr>\n",
       "    <tr>\n",
       "      <th>2</th>\n",
       "      <td>af6b2aac5d7dbd9a868bc70d7b5159e2</td>\n",
       "      <td>[ 0.00093789]</td>\n",
       "    </tr>\n",
       "    <tr>\n",
       "      <th>3</th>\n",
       "      <td>18dc0d60fe1f0fbdee72b4c66a00b43e</td>\n",
       "      <td>[ 0.9049598]</td>\n",
       "    </tr>\n",
       "    <tr>\n",
       "      <th>4</th>\n",
       "      <td>a69e7fd24cd23da638f95ca5713dceb2</td>\n",
       "      <td>[ 0.95701653]</td>\n",
       "    </tr>\n",
       "  </tbody>\n",
       "</table>\n",
       "</div>"
      ],
      "text/plain": [
       "                                  0                   1\n",
       "0  d64d0c87e3c51019b922df146f8b7eab  [  1.13385486e-05]\n",
       "1  8f435a5f65eb0a44523d39b656cfc265       [ 0.94399279]\n",
       "2  af6b2aac5d7dbd9a868bc70d7b5159e2       [ 0.00093789]\n",
       "3  18dc0d60fe1f0fbdee72b4c66a00b43e        [ 0.9049598]\n",
       "4  a69e7fd24cd23da638f95ca5713dceb2       [ 0.95701653]"
      ]
     },
     "execution_count": 6,
     "metadata": {},
     "output_type": "execute_result"
    }
   ],
   "source": [
    "result_RCNN.head()"
   ]
  },
  {
   "cell_type": "code",
   "execution_count": 19,
   "metadata": {},
   "outputs": [
    {
     "data": {
      "text/html": [
       "<div>\n",
       "<style>\n",
       "    .dataframe thead tr:only-child th {\n",
       "        text-align: right;\n",
       "    }\n",
       "\n",
       "    .dataframe thead th {\n",
       "        text-align: left;\n",
       "    }\n",
       "\n",
       "    .dataframe tbody tr th {\n",
       "        vertical-align: top;\n",
       "    }\n",
       "</style>\n",
       "<table border=\"1\" class=\"dataframe\">\n",
       "  <thead>\n",
       "    <tr style=\"text-align: right;\">\n",
       "      <th></th>\n",
       "      <th>id</th>\n",
       "      <th>prob</th>\n",
       "    </tr>\n",
       "  </thead>\n",
       "  <tbody>\n",
       "    <tr>\n",
       "      <th>0</th>\n",
       "      <td>d64d0c87e3c51019b922df146f8b7eab</td>\n",
       "      <td>0.028894</td>\n",
       "    </tr>\n",
       "    <tr>\n",
       "      <th>1</th>\n",
       "      <td>8f435a5f65eb0a44523d39b656cfc265</td>\n",
       "      <td>0.982756</td>\n",
       "    </tr>\n",
       "    <tr>\n",
       "      <th>2</th>\n",
       "      <td>af6b2aac5d7dbd9a868bc70d7b5159e2</td>\n",
       "      <td>0.089061</td>\n",
       "    </tr>\n",
       "    <tr>\n",
       "      <th>3</th>\n",
       "      <td>18dc0d60fe1f0fbdee72b4c66a00b43e</td>\n",
       "      <td>0.960509</td>\n",
       "    </tr>\n",
       "    <tr>\n",
       "      <th>4</th>\n",
       "      <td>a69e7fd24cd23da638f95ca5713dceb2</td>\n",
       "      <td>0.985529</td>\n",
       "    </tr>\n",
       "  </tbody>\n",
       "</table>\n",
       "</div>"
      ],
      "text/plain": [
       "                                 id      prob\n",
       "0  d64d0c87e3c51019b922df146f8b7eab  0.028894\n",
       "1  8f435a5f65eb0a44523d39b656cfc265  0.982756\n",
       "2  af6b2aac5d7dbd9a868bc70d7b5159e2  0.089061\n",
       "3  18dc0d60fe1f0fbdee72b4c66a00b43e  0.960509\n",
       "4  a69e7fd24cd23da638f95ca5713dceb2  0.985529"
      ]
     },
     "execution_count": 19,
     "metadata": {},
     "output_type": "execute_result"
    }
   ],
   "source": [
    "final_result=pd.DataFrame()\n",
    "final_result.loc[:,'id']=result_RNN[0]\n",
    "final_result.loc[:,'prob']=np.array(list(map(lambda x:float(x.strip('[]')),result_RCNN[1].values)))*0.3\\\n",
    "+np.array(list(map(lambda x:float(x.strip('[]')),result_RNN[1].values)))*0.3\\\n",
    "+np.array(list(map(lambda x:float(x.strip('[]')),result_CNN512[1].values)))*0.2\\\n",
    "+np.array(list(map(lambda x:float(x.strip('[]')),result_CNNK2[1].values)))*0.2\n",
    "final_result.head()"
   ]
  },
  {
   "cell_type": "code",
   "execution_count": 21,
   "metadata": {},
   "outputs": [],
   "source": [
    "final_result.loc[:,'result']='NEGATIVE'\n",
    "final_result.loc[(final_result['prob']>=0.5),'result']='POSITIVE'\n",
    "final_result.drop('prob',axis=1,inplace=True)\n",
    "final_result.to_csv('result.csv',index=False,header=False)"
   ]
  },
  {
   "cell_type": "code",
   "execution_count": null,
   "metadata": {
    "collapsed": true
   },
   "outputs": [],
   "source": []
  }
 ],
 "metadata": {
  "kernelspec": {
   "display_name": "Python 3",
   "language": "python",
   "name": "python3"
  },
  "language_info": {
   "codemirror_mode": {
    "name": "ipython",
    "version": 3
   },
   "file_extension": ".py",
   "mimetype": "text/x-python",
   "name": "python",
   "nbconvert_exporter": "python",
   "pygments_lexer": "ipython3",
   "version": "3.6.3"
  }
 },
 "nbformat": 4,
 "nbformat_minor": 2
}
